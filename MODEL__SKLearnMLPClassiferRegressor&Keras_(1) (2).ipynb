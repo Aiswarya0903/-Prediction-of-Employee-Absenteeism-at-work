{
  "cells": [
    {
      "cell_type": "markdown",
      "source": [
        "# Models for the preprocessed data"
      ],
      "metadata": {
        "id": "3vox9Amll3in"
      }
    },
    {
      "cell_type": "markdown",
      "source": [
        "## Importing Packages"
      ],
      "metadata": {
        "id": "SIzC9rNQl06F"
      }
    },
    {
      "cell_type": "code",
      "execution_count": 3,
      "metadata": {
        "colab": {
          "base_uri": "https://localhost:8080/"
        },
        "id": "XztdkwCKsnu4",
        "outputId": "305b7e2c-6ecd-417a-c8b4-ff455000793c"
      },
      "outputs": [
        {
          "output_type": "stream",
          "name": "stdout",
          "text": [
            "Looking in indexes: https://pypi.org/simple, https://us-python.pkg.dev/colab-wheels/public/simple/\n",
            "Requirement already satisfied: xgboost in /usr/local/lib/python3.9/dist-packages (1.7.5)\n",
            "Requirement already satisfied: scipy in /usr/local/lib/python3.9/dist-packages (from xgboost) (1.10.1)\n",
            "Requirement already satisfied: numpy in /usr/local/lib/python3.9/dist-packages (from xgboost) (1.22.4)\n",
            "Looking in indexes: https://pypi.org/simple, https://us-python.pkg.dev/colab-wheels/public/simple/\n",
            "Collecting imblearn\n",
            "  Downloading imblearn-0.0-py2.py3-none-any.whl (1.9 kB)\n",
            "Requirement already satisfied: imbalanced-learn in /usr/local/lib/python3.9/dist-packages (from imblearn) (0.10.1)\n",
            "Requirement already satisfied: numpy>=1.17.3 in /usr/local/lib/python3.9/dist-packages (from imbalanced-learn->imblearn) (1.22.4)\n",
            "Requirement already satisfied: joblib>=1.1.1 in /usr/local/lib/python3.9/dist-packages (from imbalanced-learn->imblearn) (1.2.0)\n",
            "Requirement already satisfied: scikit-learn>=1.0.2 in /usr/local/lib/python3.9/dist-packages (from imbalanced-learn->imblearn) (1.2.2)\n",
            "Requirement already satisfied: threadpoolctl>=2.0.0 in /usr/local/lib/python3.9/dist-packages (from imbalanced-learn->imblearn) (3.1.0)\n",
            "Requirement already satisfied: scipy>=1.3.2 in /usr/local/lib/python3.9/dist-packages (from imbalanced-learn->imblearn) (1.10.1)\n",
            "Installing collected packages: imblearn\n",
            "Successfully installed imblearn-0.0\n"
          ]
        }
      ],
      "source": [
        "# import packages\n",
        "import pandas as pd\n",
        "import numpy as np\n",
        "from sklearn.model_selection import train_test_split\n",
        "from sklearn.tree import DecisionTreeClassifier\n",
        "from sklearn.ensemble import RandomForestRegressor\n",
        "from sklearn.ensemble import RandomForestClassifier\n",
        "from sklearn.model_selection import RandomizedSearchCV\n",
        "from sklearn.metrics import confusion_matrix, accuracy_score, precision_score, recall_score, f1_score\n",
        "from sklearn.model_selection import GridSearchCV, RandomizedSearchCV\n",
        "from xgboost import XGBClassifier\n",
        "from scipy.stats import randint\n",
        "from sklearn.metrics import make_scorer, recall_score\n",
        "from sklearn.metrics import classification_report\n",
        "from sklearn.metrics import accuracy_score, precision_score, recall_score, f1_score\n",
        "!pip install xgboost\n",
        "from sklearn.preprocessing import LabelEncoder\n",
        "from sklearn import preprocessing\n",
        "from sklearn.impute import SimpleImputer\n",
        "!pip install imblearn\n",
        "from imblearn.over_sampling import SMOTE\n",
        "from sklearn.utils import resample\n",
        "from imblearn.over_sampling import RandomOverSampler\n",
        "from sklearn.linear_model import LogisticRegression\n",
        "from sklearn.svm import SVC\n",
        "import warnings\n",
        "warnings.filterwarnings(\"ignore\")\n",
        "from sklearn.metrics import get_scorer_names\n",
        "from sklearn.neural_network import MLPClassifier\n",
        "\n",
        "from tensorflow import keras\n",
        "\n",
        "import os\n",
        "import tensorflow as tf\n",
        "os.environ['TF_CPP_MIN_LOG_LEVEL'] = '3'\n",
        "\n",
        "from __future__ import print_function\n",
        "import numpy as np\n",
        "from sklearn import datasets\n",
        "\n",
        "\n"
      ]
    },
    {
      "cell_type": "markdown",
      "source": [
        "## Set random seed"
      ],
      "metadata": {
        "id": "MDyXa-NyDojR"
      }
    },
    {
      "cell_type": "code",
      "source": [
        "np.random.seed(1)\n",
        "tf.random.set_seed(1)"
      ],
      "metadata": {
        "id": "V_cOHMj-Drxl"
      },
      "execution_count": 4,
      "outputs": []
    },
    {
      "cell_type": "code",
      "source": [
        "import tensorflow as tf\n",
        "tf.test.gpu_device_name()"
      ],
      "metadata": {
        "colab": {
          "base_uri": "https://localhost:8080/",
          "height": 35
        },
        "id": "pMx1S8AimJKm",
        "outputId": "dd004517-a7a9-4cc0-aceb-38ed12f5beae"
      },
      "execution_count": 5,
      "outputs": [
        {
          "output_type": "execute_result",
          "data": {
            "text/plain": [
              "'/device:GPU:0'"
            ],
            "application/vnd.google.colaboratory.intrinsic+json": {
              "type": "string"
            }
          },
          "metadata": {},
          "execution_count": 5
        }
      ]
    },
    {
      "cell_type": "markdown",
      "metadata": {
        "id": "eFithsLjt_JP"
      },
      "source": [
        "## Load data"
      ]
    },
    {
      "cell_type": "code",
      "execution_count": 6,
      "metadata": {
        "colab": {
          "base_uri": "https://localhost:8080/"
        },
        "id": "l4yAlULVtzxq",
        "outputId": "08da409a-9e61-4b4e-91dc-99e0a50fb6d7"
      },
      "outputs": [
        {
          "output_type": "stream",
          "name": "stdout",
          "text": [
            "Mounted at /content/gdrive\n"
          ]
        }
      ],
      "source": [
        "from google.colab import drive \n",
        "drive.mount('/content/gdrive')\n",
        "\n",
        "train_X =pd.read_csv('gdrive/My Drive/aaw_train_X.csv')\n",
        "train_y =pd.read_csv('gdrive/My Drive/aaw_train_y.csv')\n",
        "test_X =pd.read_csv('gdrive/My Drive/aaw_test_X.csv')\n",
        "test_y =pd.read_csv('gdrive/My Drive/aaw_test_y.csv')"
      ]
    },
    {
      "cell_type": "markdown",
      "metadata": {
        "id": "P5Lh4EMW1682"
      },
      "source": [
        "## Model the data"
      ]
    },
    {
      "cell_type": "code",
      "execution_count": 7,
      "metadata": {
        "id": "1ucM3q7D18-A"
      },
      "outputs": [],
      "source": [
        "performance = pd.DataFrame({\"model\": [], \"Accuracy\": [], \"Precision\": [], \"Recall\": [], \"F1\": []})"
      ]
    },
    {
      "cell_type": "markdown",
      "metadata": {
        "id": "LsjnyomX2chy"
      },
      "source": [
        "## LOGISTIC REGRESSION "
      ]
    },
    {
      "cell_type": "markdown",
      "metadata": {
        "id": "FeurIedY2iSm"
      },
      "source": [
        "### LOGISTIC REGRESSION - RANDOM SEARCH"
      ]
    },
    {
      "cell_type": "code",
      "execution_count": 8,
      "metadata": {
        "colab": {
          "base_uri": "https://localhost:8080/"
        },
        "id": "0kpxEhum2guD",
        "outputId": "0e9d0aaa-9069-4201-82cb-dfa676db5a23"
      },
      "outputs": [
        {
          "output_type": "stream",
          "name": "stdout",
          "text": [
            "Fitting 10 folds for each of 50 candidates, totalling 500 fits\n",
            "The best accuracy score is 0.9768476621417799\n",
            "... with parameters: {'solver': 'liblinear', 'penalty': 'l1', 'max_iter': 73, 'l1_ratio': 0.5, 'C': 0.01}\n"
          ]
        }
      ],
      "source": [
        "score_measure = \"accuracy\"\n",
        "kfolds = 10\n",
        "\n",
        "param_grid = {\n",
        "    'max_iter' : np.arange(1,100),\n",
        "    'penalty': ['none','l1','l2','elasticnet'],\n",
        "    'solver':['saga','liblinear'],\n",
        "    'C': [0,0.01],\n",
        "    'l1_ratio': [0.25, 0.5, 0.75],\n",
        "}\n",
        "\n",
        "logistic_reg = LogisticRegression()\n",
        "rand_search = RandomizedSearchCV(estimator = logistic_reg, param_distributions=param_grid, cv=kfolds, n_iter=50,\n",
        "                           scoring=score_measure, verbose=1, n_jobs=-1, \n",
        "                           return_train_score=True)\n",
        "\n",
        "_ = rand_search.fit(train_X, train_y)\n",
        "\n",
        "print(f\"The best {score_measure} score is {rand_search.best_score_}\")\n",
        "print(f\"... with parameters: {rand_search.best_params_}\")"
      ]
    },
    {
      "cell_type": "markdown",
      "metadata": {
        "id": "1DQcmg-03ZFY"
      },
      "source": [
        "### LOGISTIC REGRESSION - GRID SEARCH"
      ]
    },
    {
      "cell_type": "code",
      "execution_count": 9,
      "metadata": {
        "colab": {
          "base_uri": "https://localhost:8080/"
        },
        "id": "YggsYEpM3f2n",
        "outputId": "8c29dfc6-1915-4348-b717-00e04858150f"
      },
      "outputs": [
        {
          "output_type": "stream",
          "name": "stdout",
          "text": [
            "Fitting 10 folds for each of 10 candidates, totalling 100 fits\n",
            "The best accuracy score is 0.9768476621417799\n",
            "... with parameters: {'C': 0.01, 'max_iter': 68, 'penalty': 'l1', 'solver': 'liblinear'}\n"
          ]
        }
      ],
      "source": [
        "score_measure = \"accuracy\"\n",
        "kfolds = 10\n",
        "max_iter = rand_search.best_params_['max_iter']\n",
        "penalty = rand_search.best_params_['penalty']\n",
        "solver = rand_search.best_params_['solver']\n",
        "C = rand_search.best_params_['C']\n",
        "\n",
        "param_grid = {  \n",
        "    'max_iter' : np.arange(max_iter-5,max_iter+5),\n",
        "    'penalty': [penalty],\n",
        "    'solver': [solver],\n",
        "    'C': [C]\n",
        "}\n",
        "\n",
        "logistic_reg = LogisticRegression()\n",
        "grid_search = GridSearchCV(estimator = logistic_reg, param_grid=param_grid, cv=kfolds, \n",
        "                           scoring=score_measure, verbose=1, n_jobs=-1,\n",
        "                           return_train_score=True)\n",
        "\n",
        "_ = grid_search.fit(train_X, train_y)\n",
        "\n",
        "print(f\"The best {score_measure} score is {grid_search.best_score_}\")\n",
        "print(f\"... with parameters: {grid_search.best_params_}\")\n",
        "\n",
        "bestRecallLogistic = grid_search.best_estimator_"
      ]
    },
    {
      "cell_type": "code",
      "execution_count": 10,
      "metadata": {
        "id": "apNLSOxT3qqB"
      },
      "outputs": [],
      "source": [
        "c_matrix = confusion_matrix(test_y, grid_search.predict(test_X))\n",
        "TP = c_matrix[1][1]\n",
        "TN = c_matrix[0][0]\n",
        "FP = c_matrix[0][1]\n",
        "FN = c_matrix[1][0]\n",
        "performance = pd.concat([performance, pd.DataFrame({'model':\"Logistic Regression\", \n",
        "                                                    'Accuracy': [(TP+TN)/(TP+TN+FP+FN)], \n",
        "                                                    'Precision': [TP/(TP+FP)], \n",
        "                                                    'Recall': [TP/(TP+FN)], \n",
        "                                                    'F1': [2*TP/(2*TP+FP+FN)]\n",
        "                                                     }, index=[0])])"
      ]
    },
    {
      "cell_type": "markdown",
      "metadata": {
        "id": "-HgpTc4STP4B"
      },
      "source": [
        "## SVM"
      ]
    },
    {
      "cell_type": "markdown",
      "metadata": {
        "id": "3ybttuFNTXWt"
      },
      "source": [
        "### SVM CLASSIFIER - LINEAR - RBF - POLY - RANDOM SEARCH"
      ]
    },
    {
      "cell_type": "code",
      "execution_count": 11,
      "metadata": {
        "colab": {
          "base_uri": "https://localhost:8080/"
        },
        "id": "qk18i-ItTZ4x",
        "outputId": "53dc5031-c8f8-4b39-a9ed-d9ed2736800c"
      },
      "outputs": [
        {
          "output_type": "stream",
          "name": "stdout",
          "text": [
            "Fitting 10 folds for each of 24 candidates, totalling 240 fits\n",
            "The best accuracy score is 1.0\n",
            "... with parameters: {'kernel': 'linear', 'gamma': 'scale', 'C': 1}\n"
          ]
        }
      ],
      "source": [
        "score_measure = \"accuracy\"\n",
        "kfolds = 10\n",
        "\n",
        "param_grid = {\n",
        "    'C': np.arange(1,5),   \n",
        "    'gamma': ['scale','auto'],\n",
        "    'kernel':['linear','rbf','poly']\n",
        "}\n",
        "\n",
        "svm = SVC()\n",
        "rand_search = RandomizedSearchCV(estimator = svm, param_distributions=param_grid, cv=10, n_iter=500,\n",
        "                           scoring=score_measure, verbose=1, n_jobs=-1, \n",
        "                           return_train_score=True)\n",
        "\n",
        "_ = rand_search.fit(train_X, train_y)\n",
        "\n",
        "print(f\"The best {score_measure} score is {rand_search.best_score_}\")\n",
        "print(f\"... with parameters: {rand_search.best_params_}\")"
      ]
    },
    {
      "cell_type": "markdown",
      "metadata": {
        "id": "6j_lsNrZT30V"
      },
      "source": [
        "### SVM CLASSIFIER - LINEAR - RBF - POLY - GRID SEARCH"
      ]
    },
    {
      "cell_type": "code",
      "execution_count": 12,
      "metadata": {
        "id": "wU8v5HGqT611",
        "colab": {
          "base_uri": "https://localhost:8080/"
        },
        "outputId": "8a3b8fbe-9e27-43cd-d0dd-addcd99bee9b"
      },
      "outputs": [
        {
          "output_type": "stream",
          "name": "stdout",
          "text": [
            "Fitting 10 folds for each of 6 candidates, totalling 60 fits\n",
            "The best accuracy score is 1.0\n",
            "... with parameters: {'C': 1, 'gamma': 'scale', 'kernel': 'linear'}\n"
          ]
        }
      ],
      "source": [
        "score_measure = \"accuracy\"\n",
        "kfolds = 10\n",
        "\n",
        "C = rand_search.best_params_['C']\n",
        "gamma = rand_search.best_params_['gamma']\n",
        "kernel = rand_search.best_params_['kernel']\n",
        "\n",
        "param_grid = {\n",
        "    'C': np.arange(C-3,C+3),  \n",
        "    'gamma': [gamma],\n",
        "    'kernel': [kernel]\n",
        "    \n",
        "}\n",
        "\n",
        "svm = SVC()\n",
        "grid_search = GridSearchCV(estimator = svm, param_grid=param_grid, cv=10, \n",
        "                           scoring=score_measure, verbose=1, n_jobs=-1,\n",
        "                           return_train_score=True)\n",
        "\n",
        "_ = grid_search.fit(train_X, train_y)\n",
        "\n",
        "print(f\"The best {score_measure} score is {grid_search.best_score_}\")\n",
        "print(f\"... with parameters: {grid_search.best_params_}\")\n",
        "\n",
        "bestRecallSVM = grid_search.best_estimator_"
      ]
    },
    {
      "cell_type": "code",
      "execution_count": 13,
      "metadata": {
        "id": "V4DxN9r8UQKJ"
      },
      "outputs": [],
      "source": [
        "c_matrix = confusion_matrix(test_y, grid_search.predict(test_X))\n",
        "TP = c_matrix[1][1]\n",
        "TN = c_matrix[0][0]\n",
        "FP = c_matrix[0][1]\n",
        "FN = c_matrix[1][0]\n",
        "performance = pd.concat([performance, pd.DataFrame({'model':\"SVM\", \n",
        "                                                    'Accuracy': [(TP+TN)/(TP+TN+FP+FN)], \n",
        "                                                    'Precision': [TP/(TP+FP)], \n",
        "                                                    'Recall': [TP/(TP+FN)], \n",
        "                                                    'F1': [2*TP/(2*TP+FP+FN)]\n",
        "                                                     }, index=[0])])"
      ]
    },
    {
      "cell_type": "markdown",
      "metadata": {
        "id": "RvmxiTnWUTU3"
      },
      "source": [
        "## DECISION TREE"
      ]
    },
    {
      "cell_type": "markdown",
      "metadata": {
        "id": "LWB-w6QJxfaS"
      },
      "source": [
        "### DECISION TREE - RANDOM SEARCH"
      ]
    },
    {
      "cell_type": "code",
      "execution_count": 14,
      "metadata": {
        "id": "OxDh9XpkUY1R",
        "colab": {
          "base_uri": "https://localhost:8080/"
        },
        "outputId": "44867097-838a-4d91-d695-3b00f15387f9"
      },
      "outputs": [
        {
          "output_type": "stream",
          "name": "stdout",
          "text": [
            "Fitting 5 folds for each of 500 candidates, totalling 2500 fits\n",
            "The best accuracy score is 1.0\n",
            "... with parameters: {'min_samples_split': 16, 'min_samples_leaf': 29, 'min_impurity_decrease': 0.0011, 'max_leaf_nodes': 13, 'max_depth': 12, 'criterion': 'gini'}\n"
          ]
        }
      ],
      "source": [
        "score_measure = \"accuracy\"\n",
        "kfolds = 5\n",
        "\n",
        "param_grid = {\n",
        "    'min_samples_split': np.arange(2,50),  \n",
        "    'min_samples_leaf': np.arange(1,50),\n",
        "    'min_impurity_decrease': np.arange(0.0001, 0.01, 0.0005),\n",
        "    'max_leaf_nodes': np.arange(5, 50), \n",
        "    'max_depth': np.arange(1,20), \n",
        "    'criterion': ['gini', 'entropy'],\n",
        "}\n",
        "dtree = DecisionTreeClassifier()\n",
        "rand_search = RandomizedSearchCV(estimator = dtree, param_distributions=param_grid, cv=kfolds, n_iter=500,\n",
        "                           scoring=score_measure, verbose=1, n_jobs=-1, \n",
        "                           return_train_score=True)\n",
        "\n",
        "_ = rand_search.fit(train_X, train_y)\n",
        "\n",
        "print(f\"The best {score_measure} score is {rand_search.best_score_}\")\n",
        "print(f\"... with parameters: {rand_search.best_params_}\")"
      ]
    },
    {
      "cell_type": "markdown",
      "metadata": {
        "id": "7bCLkE2EUem5"
      },
      "source": [
        "### DECISION TREE - GRID SEARCH"
      ]
    },
    {
      "cell_type": "code",
      "execution_count": 15,
      "metadata": {
        "id": "_w3eDu5QUjIR",
        "colab": {
          "base_uri": "https://localhost:8080/"
        },
        "outputId": "35ddb230-a71d-47a9-9069-4c6876e3eec0"
      },
      "outputs": [
        {
          "output_type": "stream",
          "name": "stdout",
          "text": [
            "Fitting 5 folds for each of 1280 candidates, totalling 6400 fits\n",
            "The best accuracy score is 1.0\n",
            "... with parameters: {'criterion': 'gini', 'max_depth': 10, 'max_leaf_nodes': 11, 'min_impurity_decrease': 0.001, 'min_samples_leaf': 27, 'min_samples_split': 14}\n"
          ]
        }
      ],
      "source": [
        "score_measure = \"accuracy\"\n",
        "kfolds = 5\n",
        "min_samples_split = rand_search.best_params_['min_samples_split']\n",
        "min_samples_leaf = rand_search.best_params_['min_samples_leaf']\n",
        "min_impurity_decrease = rand_search.best_params_['min_impurity_decrease']\n",
        "max_leaf_nodes = rand_search.best_params_['max_leaf_nodes']\n",
        "max_depth = rand_search.best_params_['max_depth']\n",
        "criterion = rand_search.best_params_['criterion']\n",
        "\n",
        "param_grid = {\n",
        "    'min_samples_split': np.arange(min_samples_split-2,min_samples_split+2),  \n",
        "    'min_samples_leaf': np.arange(min_samples_leaf-2,min_samples_leaf+2),\n",
        "    'min_impurity_decrease': np.arange(min_impurity_decrease-0.0001, min_impurity_decrease+0.0001, 0.00005),\n",
        "    'max_leaf_nodes': np.arange(max_leaf_nodes-2,max_leaf_nodes+2), \n",
        "    'max_depth': np.arange(max_depth-2,max_depth+2), \n",
        "    'criterion': [criterion]\n",
        "}\n",
        "\n",
        "dtree = DecisionTreeClassifier()\n",
        "grid_search = GridSearchCV(estimator = dtree, param_grid=param_grid, cv=kfolds, \n",
        "                           scoring=score_measure, verbose=1, n_jobs=-1,\n",
        "                           return_train_score=True)\n",
        "\n",
        "_ = grid_search.fit(train_X, train_y)\n",
        "\n",
        "print(f\"The best {score_measure} score is {grid_search.best_score_}\")\n",
        "print(f\"... with parameters: {grid_search.best_params_}\")\n",
        "\n",
        "bestRecallTree = grid_search.best_estimator_"
      ]
    },
    {
      "cell_type": "code",
      "execution_count": 16,
      "metadata": {
        "id": "2tQmF_TnUnCx"
      },
      "outputs": [],
      "source": [
        "c_matrix = confusion_matrix(test_y, grid_search.predict(test_X))\n",
        "TP = c_matrix[1][1]\n",
        "TN = c_matrix[0][0]\n",
        "FP = c_matrix[0][1]\n",
        "FN = c_matrix[1][0]\n",
        "performance = pd.concat([performance, pd.DataFrame({'model':\"Decision Tree\", \n",
        "                                                    'Accuracy': [(TP+TN)/(TP+TN+FP+FN)], \n",
        "                                                    'Precision': [TP/(TP+FP)], \n",
        "                                                    'Recall': [TP/(TP+FN)], \n",
        "                                                    'F1': [2*TP/(2*TP+FP+FN)]\n",
        "                                                     }, index=[0])])"
      ]
    },
    {
      "cell_type": "markdown",
      "source": [
        "## NEURAL NETWORKS"
      ],
      "metadata": {
        "id": "vwTz0DNfBdQm"
      }
    },
    {
      "cell_type": "code",
      "source": [
        "%%time\n",
        "\n",
        "ann = MLPClassifier(hidden_layer_sizes=(60,50,40), solver='adam', max_iter=200)\n",
        "_ = ann.fit(train_X, train_y)"
      ],
      "metadata": {
        "id": "F7C-wp-_BvOT",
        "colab": {
          "base_uri": "https://localhost:8080/"
        },
        "outputId": "34f07c38-bc96-4845-f682-7784a308a3aa"
      },
      "execution_count": 17,
      "outputs": [
        {
          "output_type": "stream",
          "name": "stdout",
          "text": [
            "CPU times: user 980 ms, sys: 715 ms, total: 1.69 s\n",
            "Wall time: 901 ms\n"
          ]
        }
      ]
    },
    {
      "cell_type": "code",
      "source": [
        "%%time\n",
        "y_pred = ann.predict(test_X)"
      ],
      "metadata": {
        "id": "1W7OLh8uBvTk",
        "colab": {
          "base_uri": "https://localhost:8080/"
        },
        "outputId": "c9bb5161-cc22-4cba-82cd-31ffdb73e2f3"
      },
      "execution_count": 18,
      "outputs": [
        {
          "output_type": "stream",
          "name": "stdout",
          "text": [
            "CPU times: user 3.18 ms, sys: 1.05 ms, total: 4.22 ms\n",
            "Wall time: 4.06 ms\n"
          ]
        }
      ]
    },
    {
      "cell_type": "code",
      "source": [
        "print(classification_report(test_y, y_pred))"
      ],
      "metadata": {
        "id": "caFnikOEBvYe",
        "colab": {
          "base_uri": "https://localhost:8080/"
        },
        "outputId": "48e28a6c-9be1-43a1-8822-a50194cc1b22"
      },
      "execution_count": 19,
      "outputs": [
        {
          "output_type": "stream",
          "name": "stdout",
          "text": [
            "              precision    recall  f1-score   support\n",
            "\n",
            "           0       0.97      1.00      0.98        86\n",
            "           1       1.00      0.98      0.99       136\n",
            "\n",
            "    accuracy                           0.99       222\n",
            "   macro avg       0.98      0.99      0.99       222\n",
            "weighted avg       0.99      0.99      0.99       222\n",
            "\n"
          ]
        }
      ]
    },
    {
      "cell_type": "markdown",
      "source": [
        "### NEURAL NETWORKS - RANDOM SEARCH"
      ],
      "metadata": {
        "id": "tK37WzTtBgjC"
      }
    },
    {
      "cell_type": "code",
      "source": [
        "%%time\n",
        "\n",
        "score_measure = \"accuracy\"\n",
        "kfolds = 5\n",
        "\n",
        "param_grid = {\n",
        "    'hidden_layer_sizes': [ (50,), (70,),(50,30), (40,20), (60,40, 20), (70,50,40)],\n",
        "    'activation': ['logistic', 'tanh', 'relu'],\n",
        "    'solver': ['adam', 'sgd'],\n",
        "    'alpha': [0, .2, .5, .7, 1],\n",
        "    'learning_rate': ['constant', 'invscaling', 'adaptive'],\n",
        "    'learning_rate_init': [0.001, 0.01, 0.1, 0.2, 0.5],\n",
        "    'max_iter': [5000]\n",
        "}\n",
        "\n",
        "ann = MLPClassifier()\n",
        "grid_search = RandomizedSearchCV(estimator = ann, param_distributions=param_grid, cv=kfolds, n_iter=100,\n",
        "                           scoring=score_measure, verbose=1, n_jobs=-1,  # n_jobs=-1 will utilize all available CPUs \n",
        "                           return_train_score=True)\n",
        "\n",
        "_ = grid_search.fit(train_X, train_y)\n",
        "\n",
        "bestRecallTree = grid_search.best_estimator_\n",
        "\n",
        "print(grid_search.best_params_)"
      ],
      "metadata": {
        "id": "0TQ41_oACCd1",
        "colab": {
          "base_uri": "https://localhost:8080/"
        },
        "outputId": "ec277c75-bd93-4134-867d-dd9705ab0c24"
      },
      "execution_count": 20,
      "outputs": [
        {
          "output_type": "stream",
          "name": "stdout",
          "text": [
            "Fitting 5 folds for each of 100 candidates, totalling 500 fits\n",
            "{'solver': 'adam', 'max_iter': 5000, 'learning_rate_init': 0.001, 'learning_rate': 'adaptive', 'hidden_layer_sizes': (70, 50, 40), 'alpha': 0.5, 'activation': 'tanh'}\n",
            "CPU times: user 6.67 s, sys: 3.42 s, total: 10.1 s\n",
            "Wall time: 3min 1s\n"
          ]
        }
      ]
    },
    {
      "cell_type": "code",
      "source": [
        "%%time\n",
        "y_pred = bestRecallTree.predict(test_X)\n",
        "\n",
        "print(classification_report(test_y, y_pred))"
      ],
      "metadata": {
        "id": "utNumF1WCClF",
        "colab": {
          "base_uri": "https://localhost:8080/"
        },
        "outputId": "dd242fd2-0401-4787-f9b8-4c7acf94f616"
      },
      "execution_count": 21,
      "outputs": [
        {
          "output_type": "stream",
          "name": "stdout",
          "text": [
            "              precision    recall  f1-score   support\n",
            "\n",
            "           0       1.00      1.00      1.00        86\n",
            "           1       1.00      1.00      1.00       136\n",
            "\n",
            "    accuracy                           1.00       222\n",
            "   macro avg       1.00      1.00      1.00       222\n",
            "weighted avg       1.00      1.00      1.00       222\n",
            "\n",
            "CPU times: user 13.9 ms, sys: 16.2 ms, total: 30.2 ms\n",
            "Wall time: 17 ms\n"
          ]
        }
      ]
    },
    {
      "cell_type": "markdown",
      "source": [
        "### NEURAL NETWOKS - GRID SEARCH"
      ],
      "metadata": {
        "id": "DUfV1vkKBo6G"
      }
    },
    {
      "cell_type": "code",
      "source": [
        "%%time\n",
        "\n",
        "score_measure = \"accuracy\"\n",
        "kfolds = 5\n",
        "\n",
        "param_grid = {\n",
        "    'hidden_layer_sizes': [ (30,), (50,), (70,), (90,)],\n",
        "    'activation': ['tanh', 'relu'],\n",
        "    'solver': ['adam'],\n",
        "    'alpha': [.5, .7, 1],\n",
        "    'learning_rate': ['adaptive', 'invscaling'],\n",
        "    'learning_rate_init': [0.005, 0.01, 0.15],\n",
        "    'max_iter': [5000]\n",
        "}\n",
        "\n",
        "ann = MLPClassifier()\n",
        "grid_search = GridSearchCV(estimator = ann, param_grid=param_grid, cv=kfolds, \n",
        "                           scoring=score_measure, verbose=1, n_jobs=-1,  # n_jobs=-1 will utilize all available CPUs \n",
        "                           return_train_score=True)\n",
        "\n",
        "_ = grid_search.fit(train_X, train_y)\n",
        "\n",
        "bestRecallTree = grid_search.best_estimator_\n",
        "\n",
        "print(grid_search.best_params_)"
      ],
      "metadata": {
        "id": "eruc4bbu_1DF",
        "colab": {
          "base_uri": "https://localhost:8080/"
        },
        "outputId": "1942902b-650c-4a64-85ad-7260ba498be3"
      },
      "execution_count": 22,
      "outputs": [
        {
          "output_type": "stream",
          "name": "stdout",
          "text": [
            "Fitting 5 folds for each of 144 candidates, totalling 720 fits\n",
            "{'activation': 'tanh', 'alpha': 0.7, 'hidden_layer_sizes': (50,), 'learning_rate': 'invscaling', 'learning_rate_init': 0.005, 'max_iter': 5000, 'solver': 'adam'}\n",
            "CPU times: user 3.08 s, sys: 713 ms, total: 3.79 s\n",
            "Wall time: 1min 43s\n"
          ]
        }
      ]
    },
    {
      "cell_type": "code",
      "source": [
        "%%time\n",
        "y_pred = bestRecallTree.predict(test_X)\n",
        "\n",
        "print(classification_report(test_y, y_pred))"
      ],
      "metadata": {
        "id": "PnNlY8wHCS1I",
        "colab": {
          "base_uri": "https://localhost:8080/"
        },
        "outputId": "8561e91c-78a5-4cfa-e9f5-670120f7b58a"
      },
      "execution_count": 23,
      "outputs": [
        {
          "output_type": "stream",
          "name": "stdout",
          "text": [
            "              precision    recall  f1-score   support\n",
            "\n",
            "           0       0.99      1.00      0.99        86\n",
            "           1       1.00      0.99      1.00       136\n",
            "\n",
            "    accuracy                           1.00       222\n",
            "   macro avg       0.99      1.00      1.00       222\n",
            "weighted avg       1.00      1.00      1.00       222\n",
            "\n",
            "CPU times: user 17.8 ms, sys: 9.05 ms, total: 26.9 ms\n",
            "Wall time: 26.9 ms\n"
          ]
        }
      ]
    },
    {
      "cell_type": "code",
      "source": [
        "c_matrix = confusion_matrix(test_y, grid_search.predict(test_X))\n",
        "TP = c_matrix[1][1]\n",
        "TN = c_matrix[0][0]\n",
        "FP = c_matrix[0][1]\n",
        "FN = c_matrix[1][0]\n",
        "performance = pd.concat([performance, pd.DataFrame({'model':\"Neural_Networks_Grid_search\", \n",
        "                                                    'Accuracy': [(TP+TN)/(TP+TN+FP+FN)], \n",
        "                                                    'Precision': [TP/(TP+FP)], \n",
        "                                                    'Recall': [TP/(TP+FN)], \n",
        "                                                    'F1': [2*TP/(2*TP+FP+FN)]\n",
        "                                                     }, index=[0])])"
      ],
      "metadata": {
        "id": "8lfctMSpCutH"
      },
      "execution_count": 24,
      "outputs": []
    },
    {
      "cell_type": "markdown",
      "source": [
        "## DEEP NEURAL NETWORKS"
      ],
      "metadata": {
        "id": "cykFUBgMDCyH"
      }
    },
    {
      "cell_type": "code",
      "source": [
        "%%time\n",
        "\n",
        "# create model stucture\n",
        "model = keras.models.Sequential()\n",
        "model.add(keras.layers.Input(20))\n",
        "model.add(keras.layers.Dense(15, activation='relu',kernel_initializer= tf.keras.initializers.GlorotUniform()))\n",
        "model.add(keras.layers.Dense(15, activation='relu',kernel_initializer= tf.keras.initializers.GlorotUniform()))\n",
        "model.add(keras.layers.Dense(15, activation='relu',kernel_initializer= tf.keras.initializers.GlorotUniform()))\n",
        "model.add(keras.layers.Dense(1, activation='sigmoid')) # final layer, 10 categories\n",
        "\n",
        "\n",
        "# compile\n",
        "model.compile(loss='binary_crossentropy', optimizer='adam', metrics=['accuracy'])\n",
        "\n",
        "# if you want to overide the defaults for the optimizer....\n",
        "#adam = keras.optimizers.Adam(learning_rate=0.01)\n",
        "#model.compile(loss='sparse_categorical_crossentropy', optimizer=adam, metrics=['accuracy'])\n"
      ],
      "metadata": {
        "id": "mXMdc_cxFFKI",
        "colab": {
          "base_uri": "https://localhost:8080/"
        },
        "outputId": "ceee6acd-2712-48b8-e39b-2fb6a64aea31"
      },
      "execution_count": 25,
      "outputs": [
        {
          "output_type": "stream",
          "name": "stdout",
          "text": [
            "CPU times: user 141 ms, sys: 48.3 ms, total: 189 ms\n",
            "Wall time: 233 ms\n"
          ]
        }
      ]
    },
    {
      "cell_type": "code",
      "source": [
        "%%time\n",
        "\n",
        "# fit the model\n",
        "history = model.fit(train_X, train_y, validation_data=(test_X, test_y), epochs=20, batch_size=100)"
      ],
      "metadata": {
        "id": "3GD2T4pPHuKy",
        "colab": {
          "base_uri": "https://localhost:8080/"
        },
        "outputId": "9b4953db-a672-4d9a-c876-b2b8ffe7e39c"
      },
      "execution_count": 26,
      "outputs": [
        {
          "output_type": "stream",
          "name": "stdout",
          "text": [
            "Epoch 1/20\n",
            "6/6 [==============================] - 7s 45ms/step - loss: 0.8820 - accuracy: 0.5830 - val_loss: 0.7673 - val_accuracy: 0.6351\n",
            "Epoch 2/20\n",
            "6/6 [==============================] - 0s 12ms/step - loss: 0.7543 - accuracy: 0.6293 - val_loss: 0.6951 - val_accuracy: 0.6441\n",
            "Epoch 3/20\n",
            "6/6 [==============================] - 0s 10ms/step - loss: 0.6745 - accuracy: 0.6467 - val_loss: 0.6293 - val_accuracy: 0.6577\n",
            "Epoch 4/20\n",
            "6/6 [==============================] - 0s 10ms/step - loss: 0.6180 - accuracy: 0.6390 - val_loss: 0.5900 - val_accuracy: 0.6622\n",
            "Epoch 5/20\n",
            "6/6 [==============================] - 0s 10ms/step - loss: 0.5885 - accuracy: 0.6834 - val_loss: 0.5848 - val_accuracy: 0.6667\n",
            "Epoch 6/20\n",
            "6/6 [==============================] - 0s 12ms/step - loss: 0.5666 - accuracy: 0.6969 - val_loss: 0.5735 - val_accuracy: 0.6532\n",
            "Epoch 7/20\n",
            "6/6 [==============================] - 0s 10ms/step - loss: 0.5762 - accuracy: 0.6351 - val_loss: 0.5574 - val_accuracy: 0.6757\n",
            "Epoch 8/20\n",
            "6/6 [==============================] - 0s 13ms/step - loss: 0.5502 - accuracy: 0.7066 - val_loss: 0.5604 - val_accuracy: 0.7117\n",
            "Epoch 9/20\n",
            "6/6 [==============================] - 0s 10ms/step - loss: 0.5465 - accuracy: 0.7548 - val_loss: 0.5287 - val_accuracy: 0.6757\n",
            "Epoch 10/20\n",
            "6/6 [==============================] - 0s 12ms/step - loss: 0.5263 - accuracy: 0.6950 - val_loss: 0.5230 - val_accuracy: 0.7027\n",
            "Epoch 11/20\n",
            "6/6 [==============================] - 0s 13ms/step - loss: 0.5151 - accuracy: 0.7181 - val_loss: 0.5183 - val_accuracy: 0.7793\n",
            "Epoch 12/20\n",
            "6/6 [==============================] - 0s 12ms/step - loss: 0.5171 - accuracy: 0.7915 - val_loss: 0.4951 - val_accuracy: 0.7342\n",
            "Epoch 13/20\n",
            "6/6 [==============================] - 0s 10ms/step - loss: 0.4901 - accuracy: 0.7568 - val_loss: 0.4892 - val_accuracy: 0.7432\n",
            "Epoch 14/20\n",
            "6/6 [==============================] - 0s 10ms/step - loss: 0.4870 - accuracy: 0.7413 - val_loss: 0.4787 - val_accuracy: 0.7477\n",
            "Epoch 15/20\n",
            "6/6 [==============================] - 0s 12ms/step - loss: 0.4745 - accuracy: 0.8205 - val_loss: 0.4698 - val_accuracy: 0.7658\n",
            "Epoch 16/20\n",
            "6/6 [==============================] - 0s 13ms/step - loss: 0.4699 - accuracy: 0.7432 - val_loss: 0.4641 - val_accuracy: 0.7703\n",
            "Epoch 17/20\n",
            "6/6 [==============================] - 0s 12ms/step - loss: 0.4562 - accuracy: 0.8147 - val_loss: 0.4587 - val_accuracy: 0.7703\n",
            "Epoch 18/20\n",
            "6/6 [==============================] - 0s 12ms/step - loss: 0.4560 - accuracy: 0.7664 - val_loss: 0.4526 - val_accuracy: 0.7883\n",
            "Epoch 19/20\n",
            "6/6 [==============================] - 0s 12ms/step - loss: 0.4409 - accuracy: 0.8359 - val_loss: 0.4517 - val_accuracy: 0.8063\n",
            "Epoch 20/20\n",
            "6/6 [==============================] - 0s 13ms/step - loss: 0.4324 - accuracy: 0.8147 - val_loss: 0.4467 - val_accuracy: 0.7703\n",
            "CPU times: user 4.22 s, sys: 582 ms, total: 4.8 s\n",
            "Wall time: 11.7 s\n"
          ]
        }
      ]
    },
    {
      "cell_type": "code",
      "source": [
        "# evaluate the model\n",
        "\n",
        "scores = model.evaluate(test_X, test_y, verbose=0)\n",
        "scores\n",
        "# In results, first is loss, second is accuracy"
      ],
      "metadata": {
        "id": "uq7F-IcJJcYw",
        "colab": {
          "base_uri": "https://localhost:8080/"
        },
        "outputId": "590525b4-0307-4f5a-e3bd-0f06d1399ff6"
      },
      "execution_count": 27,
      "outputs": [
        {
          "output_type": "execute_result",
          "data": {
            "text/plain": [
              "[0.4467151165008545, 0.7702702879905701]"
            ]
          },
          "metadata": {},
          "execution_count": 27
        }
      ]
    },
    {
      "cell_type": "code",
      "source": [
        "# let's format this into a better output...\n",
        "\n",
        "print(\"%s: %.2f\" % (model.metrics_names[0], scores[0]))\n",
        "print(\"%s: %.2f%%\" % (model.metrics_names[1], scores[1]*100))"
      ],
      "metadata": {
        "id": "NWQSyxyyJga0",
        "colab": {
          "base_uri": "https://localhost:8080/"
        },
        "outputId": "12661890-43df-4d31-8487-0c3606037ba2"
      },
      "execution_count": 28,
      "outputs": [
        {
          "output_type": "stream",
          "name": "stdout",
          "text": [
            "loss: 0.45\n",
            "accuracy: 77.03%\n"
          ]
        }
      ]
    },
    {
      "cell_type": "code",
      "source": [
        "y_pred = model.predict(test_X)\n",
        "y_pred = (y_pred > 0.5)\n",
        "\n",
        "c_matrix = confusion_matrix(test_y, y_pred)\n",
        "TP = c_matrix[1][1]\n",
        "TN = c_matrix[0][0]\n",
        "FP = c_matrix[0][1]\n",
        "FN = c_matrix[1][0]\n",
        "performance = pd.concat([performance, pd.DataFrame({'model':\"Deep Neural Network\", \n",
        "                                                    'Accuracy': [(TP+TN)/(TP+TN+FP+FN)],  \n",
        "                                                    'Precision': [TP/(TP+FP)],\n",
        "                                                    'Recall': [TP/(TP+FN)], \n",
        "                                                    'F1': [2*TP/(2*TP+FP+FN)]\n",
        "                                                     }, index=[0])])\n"
      ],
      "metadata": {
        "id": "6ORoYq2WIRRZ",
        "colab": {
          "base_uri": "https://localhost:8080/"
        },
        "outputId": "3f1c2d29-d882-4ee2-d8d6-eff98a4729ba"
      },
      "execution_count": 29,
      "outputs": [
        {
          "output_type": "stream",
          "name": "stdout",
          "text": [
            "7/7 [==============================] - 0s 2ms/step\n"
          ]
        }
      ]
    },
    {
      "cell_type": "markdown",
      "source": [
        "## Wide and Deep Neural Networks"
      ],
      "metadata": {
        "id": "4eFbNN6eJ0o3"
      }
    },
    {
      "cell_type": "code",
      "source": [
        "#Define the model: for multi-class\n",
        "\n",
        "model = keras.models.Sequential()\n",
        "\n",
        "model.add(keras.layers.Input(shape=20))\n",
        "model.add(keras.layers.Dense(25, activation='relu',kernel_initializer= tf.keras.initializers.GlorotUniform()))\n",
        "model.add(keras.layers.Dense(25, activation='relu',kernel_initializer= tf.keras.initializers.GlorotUniform()))\n",
        "model.add(keras.layers.Dense(25, activation='relu',kernel_initializer= tf.keras.initializers.GlorotUniform()))\n",
        "model.add(keras.layers.Dense(1, activation='sigmoid'))"
      ],
      "metadata": {
        "id": "xjpuiWxNJ__X"
      },
      "execution_count": 30,
      "outputs": []
    },
    {
      "cell_type": "code",
      "source": [
        "# Compile model\n",
        "\n",
        "#Optimizer:\n",
        "adam = keras.optimizers.Adam(learning_rate=0.01)\n",
        "model.compile(loss='binary_crossentropy', optimizer=adam, metrics=['accuracy'])"
      ],
      "metadata": {
        "id": "Kooy_aYvKE1y"
      },
      "execution_count": 31,
      "outputs": []
    },
    {
      "cell_type": "code",
      "source": [
        "# Fit the model\n",
        "\n",
        "history = model.fit(train_X, train_y, \n",
        "                    validation_data=(test_X, test_y), \n",
        "                    epochs=20, batch_size=100)"
      ],
      "metadata": {
        "id": "UCmTZEehKvFg",
        "colab": {
          "base_uri": "https://localhost:8080/"
        },
        "outputId": "3ca8c09e-03fe-4270-f7ec-211e65011e99"
      },
      "execution_count": 32,
      "outputs": [
        {
          "output_type": "stream",
          "name": "stdout",
          "text": [
            "Epoch 1/20\n",
            "6/6 [==============================] - 3s 113ms/step - loss: 1.1805 - accuracy: 0.5116 - val_loss: 0.5327 - val_accuracy: 0.8018\n",
            "Epoch 2/20\n",
            "6/6 [==============================] - 0s 38ms/step - loss: 0.5099 - accuracy: 0.7355 - val_loss: 0.4692 - val_accuracy: 0.7658\n",
            "Epoch 3/20\n",
            "6/6 [==============================] - 0s 35ms/step - loss: 0.4156 - accuracy: 0.7857 - val_loss: 0.3740 - val_accuracy: 0.8333\n",
            "Epoch 4/20\n",
            "6/6 [==============================] - 0s 34ms/step - loss: 0.3574 - accuracy: 0.8301 - val_loss: 0.2990 - val_accuracy: 0.8874\n",
            "Epoch 5/20\n",
            "6/6 [==============================] - 0s 34ms/step - loss: 0.2942 - accuracy: 0.8726 - val_loss: 0.2679 - val_accuracy: 0.9189\n",
            "Epoch 6/20\n",
            "6/6 [==============================] - 0s 35ms/step - loss: 0.2317 - accuracy: 0.9131 - val_loss: 0.4967 - val_accuracy: 0.7117\n",
            "Epoch 7/20\n",
            "6/6 [==============================] - 0s 57ms/step - loss: 0.3065 - accuracy: 0.8436 - val_loss: 0.2079 - val_accuracy: 0.9459\n",
            "Epoch 8/20\n",
            "6/6 [==============================] - 0s 31ms/step - loss: 0.1678 - accuracy: 0.9498 - val_loss: 0.2672 - val_accuracy: 0.8468\n",
            "Epoch 9/20\n",
            "6/6 [==============================] - 0s 17ms/step - loss: 0.1951 - accuracy: 0.9035 - val_loss: 0.1729 - val_accuracy: 0.9640\n",
            "Epoch 10/20\n",
            "6/6 [==============================] - 0s 19ms/step - loss: 0.1488 - accuracy: 0.9633 - val_loss: 0.1982 - val_accuracy: 0.9279\n",
            "Epoch 11/20\n",
            "6/6 [==============================] - 0s 24ms/step - loss: 0.1479 - accuracy: 0.9382 - val_loss: 0.1389 - val_accuracy: 0.9685\n",
            "Epoch 12/20\n",
            "6/6 [==============================] - 0s 17ms/step - loss: 0.1800 - accuracy: 0.9015 - val_loss: 0.3704 - val_accuracy: 0.8288\n",
            "Epoch 13/20\n",
            "6/6 [==============================] - 0s 17ms/step - loss: 0.1899 - accuracy: 0.9035 - val_loss: 0.1621 - val_accuracy: 0.9324\n",
            "Epoch 14/20\n",
            "6/6 [==============================] - 0s 18ms/step - loss: 0.0991 - accuracy: 0.9749 - val_loss: 0.1141 - val_accuracy: 0.9820\n",
            "Epoch 15/20\n",
            "6/6 [==============================] - 0s 17ms/step - loss: 0.0788 - accuracy: 0.9942 - val_loss: 0.1111 - val_accuracy: 0.9775\n",
            "Epoch 16/20\n",
            "6/6 [==============================] - 0s 16ms/step - loss: 0.0920 - accuracy: 0.9691 - val_loss: 0.1476 - val_accuracy: 0.9414\n",
            "Epoch 17/20\n",
            "6/6 [==============================] - 0s 19ms/step - loss: 0.1311 - accuracy: 0.9421 - val_loss: 0.1122 - val_accuracy: 0.9685\n",
            "Epoch 18/20\n",
            "6/6 [==============================] - 0s 16ms/step - loss: 0.0633 - accuracy: 0.9884 - val_loss: 0.1375 - val_accuracy: 0.9595\n",
            "Epoch 19/20\n",
            "6/6 [==============================] - 0s 16ms/step - loss: 0.1023 - accuracy: 0.9653 - val_loss: 0.0916 - val_accuracy: 0.9820\n",
            "Epoch 20/20\n",
            "6/6 [==============================] - 0s 12ms/step - loss: 0.1054 - accuracy: 0.9402 - val_loss: 0.1499 - val_accuracy: 0.9234\n"
          ]
        }
      ]
    },
    {
      "cell_type": "code",
      "source": [
        "# evaluate the model\n",
        "\n",
        "scores = model.evaluate(test_X, test_y, verbose=0)\n",
        "scores\n",
        "\n",
        "# In results, first is loss, second is accuracy"
      ],
      "metadata": {
        "id": "hHdLKxgTKvH0",
        "colab": {
          "base_uri": "https://localhost:8080/"
        },
        "outputId": "b0c195c0-5a07-4ad6-d24e-6f2d4f935f43"
      },
      "execution_count": 33,
      "outputs": [
        {
          "output_type": "execute_result",
          "data": {
            "text/plain": [
              "[0.1499219387769699, 0.9234234094619751]"
            ]
          },
          "metadata": {},
          "execution_count": 33
        }
      ]
    },
    {
      "cell_type": "code",
      "source": [
        "# extract the accuracy from model.evaluate\n",
        "\n",
        "print(\"%s: %.2f\" % (model.metrics_names[0], scores[0]))\n",
        "print(\"%s: %.2f%%\" % (model.metrics_names[1], scores[1]*100))"
      ],
      "metadata": {
        "id": "FDp1EMQ0KvLP",
        "colab": {
          "base_uri": "https://localhost:8080/"
        },
        "outputId": "b679b025-c570-4ea3-8b54-685141125faa"
      },
      "execution_count": 34,
      "outputs": [
        {
          "output_type": "stream",
          "name": "stdout",
          "text": [
            "loss: 0.15\n",
            "accuracy: 92.34%\n"
          ]
        }
      ]
    },
    {
      "cell_type": "code",
      "source": [
        "y_pred = model.predict(test_X)\n",
        "y_pred = (y_pred > 0.5)\n",
        "\n",
        "c_matrix = confusion_matrix(test_y, y_pred)\n",
        "TP = c_matrix[1][1]\n",
        "TN = c_matrix[0][0]\n",
        "FP = c_matrix[0][1]\n",
        "FN = c_matrix[1][0]\n",
        "performance = pd.concat([performance, pd.DataFrame({'model':\"Wide and Deep Neural Network\", \n",
        "                                                    'Accuracy': [(TP+TN)/(TP+TN+FP+FN)],  \n",
        "                                                    'Precision': [TP/(TP+FP)],\n",
        "                                                    'Recall': [TP/(TP+FN)], \n",
        "                                                    'F1': [2*TP/(2*TP+FP+FN)]\n",
        "                                                     }, index=[0])])"
      ],
      "metadata": {
        "id": "Ph1yW66gKvRJ",
        "colab": {
          "base_uri": "https://localhost:8080/"
        },
        "outputId": "caba477e-1b59-4313-c2cd-1375665a63ab"
      },
      "execution_count": 35,
      "outputs": [
        {
          "output_type": "stream",
          "name": "stdout",
          "text": [
            "7/7 [==============================] - 0s 2ms/step\n"
          ]
        }
      ]
    },
    {
      "cell_type": "markdown",
      "source": [
        "## RandomGrid Search"
      ],
      "metadata": {
        "id": "SaXozFNRRCv5"
      }
    },
    {
      "cell_type": "code",
      "source": [
        "%%time\n",
        "\n",
        "!pip install scikeras\n",
        "from scikeras.wrappers import KerasClassifier\n",
        "from keras.initializers import GlorotNormal\n",
        "\n",
        "score_measure = \"accuracy\"\n",
        "kfolds = 5\n",
        "\n",
        "def build_clf(hidden_layer_sizes, dropout):\n",
        "    ann = tf.keras.models.Sequential()\n",
        "    ann.add(keras.layers.Input(shape=20)),\n",
        "    for hidden_layer_size in hidden_layer_sizes:\n",
        "        model.add(keras.layers.Dense(hidden_layer_size, kernel_initializer= tf.keras.initializers.GlorotUniform(), \n",
        "                                     bias_initializer=keras.initializers.RandomNormal(mean=0.0, stddev=0.05, seed=None), activation=\"relu\"))\n",
        "        model.add(keras.layers.Dropout(dropout))\n",
        "    ann.add(tf.keras.layers.Dense(1, activation='sigmoid'))\n",
        "    ann.compile(loss = 'binary_crossentropy', metrics = ['accuracy'])\n",
        "    return ann\n"
      ],
      "metadata": {
        "id": "Zxnf-SoGRGpX",
        "colab": {
          "base_uri": "https://localhost:8080/"
        },
        "outputId": "3741f882-9e57-42ca-edde-af258d23d14c"
      },
      "execution_count": 36,
      "outputs": [
        {
          "output_type": "stream",
          "name": "stdout",
          "text": [
            "Looking in indexes: https://pypi.org/simple, https://us-python.pkg.dev/colab-wheels/public/simple/\n",
            "Collecting scikeras\n",
            "  Downloading scikeras-0.10.0-py3-none-any.whl (27 kB)\n",
            "Requirement already satisfied: packaging>=0.21 in /usr/local/lib/python3.9/dist-packages (from scikeras) (23.0)\n",
            "Requirement already satisfied: scikit-learn>=1.0.0 in /usr/local/lib/python3.9/dist-packages (from scikeras) (1.2.2)\n",
            "Requirement already satisfied: scipy>=1.3.2 in /usr/local/lib/python3.9/dist-packages (from scikit-learn>=1.0.0->scikeras) (1.10.1)\n",
            "Requirement already satisfied: threadpoolctl>=2.0.0 in /usr/local/lib/python3.9/dist-packages (from scikit-learn>=1.0.0->scikeras) (3.1.0)\n",
            "Requirement already satisfied: joblib>=1.1.1 in /usr/local/lib/python3.9/dist-packages (from scikit-learn>=1.0.0->scikeras) (1.2.0)\n",
            "Requirement already satisfied: numpy>=1.17.3 in /usr/local/lib/python3.9/dist-packages (from scikit-learn>=1.0.0->scikeras) (1.22.4)\n",
            "Installing collected packages: scikeras\n",
            "Successfully installed scikeras-0.10.0\n",
            "CPU times: user 43.4 ms, sys: 40.2 ms, total: 83.6 ms\n",
            "Wall time: 3.59 s\n"
          ]
        }
      ]
    },
    {
      "cell_type": "code",
      "source": [
        "from scikeras.wrappers import KerasClassifier\n",
        "\n",
        "keras_clf = KerasClassifier(\n",
        "    model=build_clf,\n",
        "    hidden_layer_sizes=20,\n",
        "    dropout = 0.0\n",
        ")\n"
      ],
      "metadata": {
        "id": "HjD3CVY0RGsK"
      },
      "execution_count": 37,
      "outputs": []
    },
    {
      "cell_type": "code",
      "source": [
        "from tensorflow.keras.callbacks import EarlyStopping\n",
        "from sklearn.model_selection import RandomizedSearchCV\n",
        "\n",
        "params = {\n",
        "    'optimizer__learning_rate': [0.0005, 0.001, 0.005],\n",
        "    'model__hidden_layer_sizes': [(70,),(90, ), (100,), (100, 90)],\n",
        "    'model__dropout': [0, 0.1],\n",
        "    'batch_size':[20, 60, 100],\n",
        "    'epochs':[10, 50, 100],\n",
        "    'optimizer':[\"adam\",'sgd']\n",
        "}\n",
        "keras_clf.get_params().keys()\n",
        "\n"
      ],
      "metadata": {
        "id": "NqYdHJNDRGuo",
        "colab": {
          "base_uri": "https://localhost:8080/"
        },
        "outputId": "f654f576-d284-4ec2-9dff-1fd3339b276d"
      },
      "execution_count": 38,
      "outputs": [
        {
          "output_type": "execute_result",
          "data": {
            "text/plain": [
              "dict_keys(['model', 'build_fn', 'warm_start', 'random_state', 'optimizer', 'loss', 'metrics', 'batch_size', 'validation_batch_size', 'verbose', 'callbacks', 'validation_split', 'shuffle', 'run_eagerly', 'epochs', 'hidden_layer_sizes', 'dropout', 'class_weight'])"
            ]
          },
          "metadata": {},
          "execution_count": 38
        }
      ]
    },
    {
      "cell_type": "code",
      "source": [
        "rnd_search_cv = RandomizedSearchCV(estimator=keras_clf, param_distributions=params, scoring='accuracy', n_iter=50, cv=5)\n",
        "\n",
        "import sys\n",
        "sys.setrecursionlimit(10000) # note: the default is 3000 (python 3.9)\n",
        "\n",
        "earlystop = EarlyStopping(monitor='val_loss', patience=5, verbose=0, mode='auto')\n",
        "callback = [earlystop]\n",
        "\n",
        "_ = rnd_search_cv.fit(train_X, train_y, callbacks=callback, verbose=0)\n"
      ],
      "metadata": {
        "id": "Zj7U0ko4RGyL",
        "colab": {
          "base_uri": "https://localhost:8080/"
        },
        "outputId": "9c31a9e5-9338-4e2a-f06a-17307de84b8a"
      },
      "execution_count": 39,
      "outputs": [
        {
          "output_type": "stream",
          "name": "stdout",
          "text": [
            "2/2 [==============================] - 0s 6ms/step\n",
            "2/2 [==============================] - 0s 8ms/step\n",
            "2/2 [==============================] - 0s 8ms/step\n"
          ]
        },
        {
          "output_type": "stream",
          "name": "stderr",
          "text": [
            "WARNING:tensorflow:5 out of the last 14 calls to <function Model.make_predict_function.<locals>.predict_function at 0x7ff6700f8790> triggered tf.function retracing. Tracing is expensive and the excessive number of tracings could be due to (1) creating @tf.function repeatedly in a loop, (2) passing tensors with different shapes, (3) passing Python objects instead of tensors. For (1), please define your @tf.function outside of the loop. For (2), @tf.function has reduce_retracing=True option that can avoid unnecessary retracing. For (3), please refer to https://www.tensorflow.org/guide/function#controlling_retracing and https://www.tensorflow.org/api_docs/python/tf/function for  more details.\n"
          ]
        },
        {
          "output_type": "stream",
          "name": "stdout",
          "text": [
            "2/2 [==============================] - 0s 5ms/step\n"
          ]
        },
        {
          "output_type": "stream",
          "name": "stderr",
          "text": [
            "WARNING:tensorflow:6 out of the last 16 calls to <function Model.make_predict_function.<locals>.predict_function at 0x7ff68c09cb80> triggered tf.function retracing. Tracing is expensive and the excessive number of tracings could be due to (1) creating @tf.function repeatedly in a loop, (2) passing tensors with different shapes, (3) passing Python objects instead of tensors. For (1), please define your @tf.function outside of the loop. For (2), @tf.function has reduce_retracing=True option that can avoid unnecessary retracing. For (3), please refer to https://www.tensorflow.org/guide/function#controlling_retracing and https://www.tensorflow.org/api_docs/python/tf/function for  more details.\n"
          ]
        },
        {
          "output_type": "stream",
          "name": "stdout",
          "text": [
            "2/2 [==============================] - 0s 6ms/step\n",
            "2/2 [==============================] - 0s 4ms/step\n",
            "2/2 [==============================] - 0s 5ms/step\n",
            "2/2 [==============================] - 0s 13ms/step\n",
            "2/2 [==============================] - 0s 7ms/step\n",
            "2/2 [==============================] - 0s 4ms/step\n",
            "2/2 [==============================] - 0s 5ms/step\n",
            "2/2 [==============================] - 0s 3ms/step\n",
            "2/2 [==============================] - 0s 5ms/step\n",
            "2/2 [==============================] - 0s 4ms/step\n",
            "2/2 [==============================] - 0s 6ms/step\n",
            "6/6 [==============================] - 0s 2ms/step\n",
            "6/6 [==============================] - 0s 3ms/step\n",
            "6/6 [==============================] - 0s 2ms/step\n",
            "6/6 [==============================] - 0s 3ms/step\n",
            "6/6 [==============================] - 0s 3ms/step\n",
            "6/6 [==============================] - 0s 3ms/step\n",
            "6/6 [==============================] - 0s 2ms/step\n",
            "6/6 [==============================] - 0s 2ms/step\n",
            "6/6 [==============================] - 0s 2ms/step\n",
            "6/6 [==============================] - 0s 3ms/step\n",
            "2/2 [==============================] - 0s 9ms/step\n",
            "2/2 [==============================] - 0s 3ms/step\n",
            "2/2 [==============================] - 0s 6ms/step\n",
            "2/2 [==============================] - 0s 4ms/step\n",
            "2/2 [==============================] - 0s 9ms/step\n",
            "2/2 [==============================] - 0s 6ms/step\n",
            "2/2 [==============================] - 1s 3ms/step\n",
            "2/2 [==============================] - 0s 8ms/step\n",
            "2/2 [==============================] - 0s 10ms/step\n",
            "2/2 [==============================] - 0s 6ms/step\n",
            "2/2 [==============================] - 0s 5ms/step\n",
            "2/2 [==============================] - 0s 3ms/step\n",
            "2/2 [==============================] - 0s 4ms/step\n",
            "2/2 [==============================] - 0s 6ms/step\n",
            "2/2 [==============================] - 0s 6ms/step\n",
            "2/2 [==============================] - 0s 9ms/step\n",
            "2/2 [==============================] - 0s 4ms/step\n",
            "2/2 [==============================] - 0s 6ms/step\n",
            "2/2 [==============================] - 0s 5ms/step\n",
            "2/2 [==============================] - 0s 3ms/step\n",
            "2/2 [==============================] - 0s 4ms/step\n",
            "2/2 [==============================] - 0s 3ms/step\n",
            "2/2 [==============================] - 0s 4ms/step\n",
            "2/2 [==============================] - 0s 6ms/step\n",
            "2/2 [==============================] - 0s 6ms/step\n",
            "6/6 [==============================] - 0s 3ms/step\n",
            "6/6 [==============================] - 0s 3ms/step\n",
            "6/6 [==============================] - 0s 3ms/step\n",
            "6/6 [==============================] - 0s 2ms/step\n",
            "6/6 [==============================] - 0s 3ms/step\n",
            "2/2 [==============================] - 0s 6ms/step\n",
            "2/2 [==============================] - 0s 3ms/step\n",
            "2/2 [==============================] - 0s 6ms/step\n",
            "2/2 [==============================] - 0s 3ms/step\n",
            "2/2 [==============================] - 0s 5ms/step\n",
            "2/2 [==============================] - 0s 6ms/step\n",
            "2/2 [==============================] - 0s 4ms/step\n",
            "2/2 [==============================] - 0s 6ms/step\n",
            "2/2 [==============================] - 0s 3ms/step\n",
            "2/2 [==============================] - 0s 5ms/step\n",
            "2/2 [==============================] - 0s 5ms/step\n",
            "2/2 [==============================] - 0s 6ms/step\n",
            "2/2 [==============================] - 0s 5ms/step\n",
            "2/2 [==============================] - 0s 3ms/step\n",
            "2/2 [==============================] - 0s 3ms/step\n",
            "2/2 [==============================] - 0s 3ms/step\n",
            "2/2 [==============================] - 0s 6ms/step\n",
            "2/2 [==============================] - 0s 3ms/step\n",
            "2/2 [==============================] - 0s 6ms/step\n",
            "2/2 [==============================] - 0s 7ms/step\n",
            "6/6 [==============================] - 0s 2ms/step\n",
            "6/6 [==============================] - 0s 2ms/step\n",
            "6/6 [==============================] - 0s 2ms/step\n",
            "6/6 [==============================] - 0s 3ms/step\n",
            "6/6 [==============================] - 0s 2ms/step\n",
            "2/2 [==============================] - 0s 3ms/step\n",
            "2/2 [==============================] - 0s 3ms/step\n",
            "2/2 [==============================] - 0s 6ms/step\n",
            "2/2 [==============================] - 0s 6ms/step\n",
            "2/2 [==============================] - 0s 8ms/step\n",
            "2/2 [==============================] - 0s 3ms/step\n",
            "2/2 [==============================] - 0s 7ms/step\n",
            "2/2 [==============================] - 0s 7ms/step\n",
            "2/2 [==============================] - 0s 4ms/step\n",
            "2/2 [==============================] - 0s 5ms/step\n",
            "2/2 [==============================] - 0s 9ms/step\n",
            "2/2 [==============================] - 0s 6ms/step\n",
            "2/2 [==============================] - 0s 5ms/step\n",
            "2/2 [==============================] - 0s 5ms/step\n",
            "2/2 [==============================] - 0s 5ms/step\n",
            "2/2 [==============================] - 0s 6ms/step\n",
            "2/2 [==============================] - 0s 4ms/step\n",
            "2/2 [==============================] - 0s 8ms/step\n",
            "2/2 [==============================] - 0s 5ms/step\n",
            "2/2 [==============================] - 0s 4ms/step\n",
            "6/6 [==============================] - 0s 2ms/step\n",
            "6/6 [==============================] - 0s 2ms/step\n",
            "6/6 [==============================] - 0s 3ms/step\n",
            "6/6 [==============================] - 0s 2ms/step\n",
            "6/6 [==============================] - 0s 2ms/step\n",
            "6/6 [==============================] - 0s 2ms/step\n",
            "6/6 [==============================] - 0s 2ms/step\n",
            "6/6 [==============================] - 0s 2ms/step\n",
            "6/6 [==============================] - 0s 2ms/step\n",
            "6/6 [==============================] - 0s 2ms/step\n",
            "6/6 [==============================] - 0s 2ms/step\n",
            "6/6 [==============================] - 0s 2ms/step\n",
            "6/6 [==============================] - 0s 3ms/step\n",
            "6/6 [==============================] - 0s 2ms/step\n",
            "6/6 [==============================] - 0s 3ms/step\n",
            "6/6 [==============================] - 0s 2ms/step\n",
            "6/6 [==============================] - 0s 2ms/step\n",
            "6/6 [==============================] - 0s 3ms/step\n",
            "6/6 [==============================] - 0s 2ms/step\n",
            "6/6 [==============================] - 0s 2ms/step\n",
            "2/2 [==============================] - 0s 4ms/step\n",
            "2/2 [==============================] - 0s 6ms/step\n",
            "2/2 [==============================] - 0s 7ms/step\n",
            "2/2 [==============================] - 0s 3ms/step\n",
            "2/2 [==============================] - 0s 4ms/step\n",
            "2/2 [==============================] - 0s 4ms/step\n",
            "2/2 [==============================] - 0s 7ms/step\n",
            "2/2 [==============================] - 0s 7ms/step\n",
            "2/2 [==============================] - 0s 5ms/step\n",
            "2/2 [==============================] - 0s 4ms/step\n",
            "2/2 [==============================] - 0s 3ms/step\n",
            "2/2 [==============================] - 0s 5ms/step\n",
            "2/2 [==============================] - 0s 4ms/step\n",
            "2/2 [==============================] - 0s 5ms/step\n",
            "2/2 [==============================] - 0s 6ms/step\n",
            "2/2 [==============================] - 0s 4ms/step\n",
            "2/2 [==============================] - 0s 7ms/step\n",
            "2/2 [==============================] - 0s 4ms/step\n",
            "2/2 [==============================] - 0s 3ms/step\n",
            "2/2 [==============================] - 0s 6ms/step\n",
            "2/2 [==============================] - 0s 6ms/step\n",
            "2/2 [==============================] - 0s 4ms/step\n",
            "2/2 [==============================] - 0s 6ms/step\n",
            "2/2 [==============================] - 0s 8ms/step\n",
            "2/2 [==============================] - 0s 7ms/step\n",
            "2/2 [==============================] - 0s 3ms/step\n",
            "2/2 [==============================] - 0s 6ms/step\n",
            "2/2 [==============================] - 0s 3ms/step\n",
            "2/2 [==============================] - 0s 9ms/step\n",
            "2/2 [==============================] - 0s 6ms/step\n",
            "2/2 [==============================] - 0s 4ms/step\n",
            "2/2 [==============================] - 0s 7ms/step\n",
            "2/2 [==============================] - 0s 5ms/step\n",
            "2/2 [==============================] - 0s 6ms/step\n",
            "2/2 [==============================] - 0s 3ms/step\n",
            "2/2 [==============================] - 0s 4ms/step\n",
            "2/2 [==============================] - 0s 4ms/step\n",
            "2/2 [==============================] - 0s 6ms/step\n",
            "2/2 [==============================] - 0s 4ms/step\n",
            "2/2 [==============================] - 0s 5ms/step\n",
            "6/6 [==============================] - 0s 2ms/step\n",
            "6/6 [==============================] - 0s 2ms/step\n",
            "6/6 [==============================] - 0s 2ms/step\n",
            "6/6 [==============================] - 0s 2ms/step\n",
            "6/6 [==============================] - 0s 2ms/step\n",
            "6/6 [==============================] - 0s 2ms/step\n",
            "6/6 [==============================] - 0s 2ms/step\n",
            "6/6 [==============================] - 0s 2ms/step\n",
            "6/6 [==============================] - 0s 3ms/step\n",
            "6/6 [==============================] - 0s 3ms/step\n",
            "2/2 [==============================] - 0s 5ms/step\n",
            "2/2 [==============================] - 0s 3ms/step\n",
            "2/2 [==============================] - 0s 9ms/step\n",
            "2/2 [==============================] - 0s 6ms/step\n",
            "2/2 [==============================] - 0s 6ms/step\n",
            "2/2 [==============================] - 0s 7ms/step\n",
            "2/2 [==============================] - 0s 3ms/step\n",
            "2/2 [==============================] - 0s 5ms/step\n",
            "2/2 [==============================] - 0s 6ms/step\n",
            "2/2 [==============================] - 0s 6ms/step\n",
            "6/6 [==============================] - 0s 2ms/step\n",
            "6/6 [==============================] - 0s 2ms/step\n",
            "6/6 [==============================] - 0s 2ms/step\n",
            "6/6 [==============================] - 0s 3ms/step\n",
            "6/6 [==============================] - 0s 3ms/step\n",
            "2/2 [==============================] - 0s 3ms/step\n",
            "2/2 [==============================] - 0s 6ms/step\n",
            "2/2 [==============================] - 0s 6ms/step\n",
            "2/2 [==============================] - 0s 9ms/step\n",
            "2/2 [==============================] - 0s 6ms/step\n",
            "6/6 [==============================] - 0s 2ms/step\n",
            "6/6 [==============================] - 0s 2ms/step\n",
            "6/6 [==============================] - 0s 3ms/step\n",
            "6/6 [==============================] - 0s 3ms/step\n",
            "6/6 [==============================] - 0s 2ms/step\n",
            "2/2 [==============================] - 0s 5ms/step\n",
            "2/2 [==============================] - 0s 5ms/step\n",
            "2/2 [==============================] - 0s 6ms/step\n",
            "2/2 [==============================] - 0s 7ms/step\n",
            "2/2 [==============================] - 0s 5ms/step\n",
            "6/6 [==============================] - 0s 2ms/step\n",
            "6/6 [==============================] - 0s 2ms/step\n",
            "6/6 [==============================] - 0s 2ms/step\n",
            "6/6 [==============================] - 0s 2ms/step\n",
            "6/6 [==============================] - 0s 2ms/step\n",
            "6/6 [==============================] - 0s 3ms/step\n",
            "6/6 [==============================] - 0s 2ms/step\n",
            "6/6 [==============================] - 0s 2ms/step\n",
            "6/6 [==============================] - 0s 2ms/step\n",
            "6/6 [==============================] - 0s 2ms/step\n",
            "6/6 [==============================] - 0s 2ms/step\n",
            "6/6 [==============================] - 0s 2ms/step\n",
            "6/6 [==============================] - 0s 4ms/step\n",
            "6/6 [==============================] - 0s 3ms/step\n",
            "6/6 [==============================] - 0s 2ms/step\n",
            "6/6 [==============================] - 0s 2ms/step\n",
            "6/6 [==============================] - 0s 3ms/step\n",
            "6/6 [==============================] - 0s 2ms/step\n",
            "6/6 [==============================] - 0s 2ms/step\n",
            "6/6 [==============================] - 0s 2ms/step\n",
            "2/2 [==============================] - 0s 4ms/step\n",
            "2/2 [==============================] - 0s 6ms/step\n",
            "2/2 [==============================] - 0s 9ms/step\n",
            "2/2 [==============================] - 0s 3ms/step\n",
            "2/2 [==============================] - 0s 3ms/step\n",
            "2/2 [==============================] - 0s 7ms/step\n",
            "2/2 [==============================] - 0s 4ms/step\n",
            "2/2 [==============================] - 0s 3ms/step\n",
            "2/2 [==============================] - 0s 5ms/step\n",
            "2/2 [==============================] - 0s 9ms/step\n",
            "2/2 [==============================] - 0s 4ms/step\n",
            "2/2 [==============================] - 0s 5ms/step\n",
            "2/2 [==============================] - 0s 5ms/step\n",
            "2/2 [==============================] - 0s 6ms/step\n",
            "2/2 [==============================] - 0s 6ms/step\n",
            "2/2 [==============================] - 0s 7ms/step\n",
            "2/2 [==============================] - 0s 6ms/step\n",
            "2/2 [==============================] - 0s 6ms/step\n",
            "2/2 [==============================] - 0s 4ms/step\n",
            "2/2 [==============================] - 0s 9ms/step\n",
            "2/2 [==============================] - 0s 6ms/step\n",
            "2/2 [==============================] - 0s 5ms/step\n",
            "2/2 [==============================] - 0s 5ms/step\n",
            "2/2 [==============================] - 0s 5ms/step\n",
            "2/2 [==============================] - 0s 3ms/step\n",
            "6/6 [==============================] - 0s 2ms/step\n",
            "6/6 [==============================] - 0s 3ms/step\n",
            "6/6 [==============================] - 0s 2ms/step\n",
            "6/6 [==============================] - 0s 2ms/step\n",
            "6/6 [==============================] - 0s 3ms/step\n"
          ]
        }
      ]
    },
    {
      "cell_type": "code",
      "source": [
        "rnd_search_cv.best_params_"
      ],
      "metadata": {
        "id": "vlnfpSrxTHdV",
        "colab": {
          "base_uri": "https://localhost:8080/"
        },
        "outputId": "8ae9f697-b403-449e-e54f-6cdfaffc2864"
      },
      "execution_count": 40,
      "outputs": [
        {
          "output_type": "execute_result",
          "data": {
            "text/plain": [
              "{'optimizer__learning_rate': 0.005,\n",
              " 'optimizer': 'adam',\n",
              " 'model__hidden_layer_sizes': (100,),\n",
              " 'model__dropout': 0,\n",
              " 'epochs': 100,\n",
              " 'batch_size': 20}"
            ]
          },
          "metadata": {},
          "execution_count": 40
        }
      ]
    },
    {
      "cell_type": "code",
      "source": [
        "best_net = rnd_search_cv.best_estimator_\n",
        "print(rnd_search_cv.best_params_)"
      ],
      "metadata": {
        "id": "FRZ-oFEYTHf1",
        "colab": {
          "base_uri": "https://localhost:8080/"
        },
        "outputId": "43d97fb7-abd3-48a6-ce73-2512b25bf665"
      },
      "execution_count": 41,
      "outputs": [
        {
          "output_type": "stream",
          "name": "stdout",
          "text": [
            "{'optimizer__learning_rate': 0.005, 'optimizer': 'adam', 'model__hidden_layer_sizes': (100,), 'model__dropout': 0, 'epochs': 100, 'batch_size': 20}\n"
          ]
        }
      ]
    },
    {
      "cell_type": "code",
      "source": [
        "%%time\n",
        "y_pred = best_net.predict(test_X)\n",
        "print(classification_report(test_y, y_pred))"
      ],
      "metadata": {
        "id": "ah_xPRK1THig",
        "colab": {
          "base_uri": "https://localhost:8080/"
        },
        "outputId": "f3b99495-0a9f-4361-8b93-182d96eb47a1"
      },
      "execution_count": 42,
      "outputs": [
        {
          "output_type": "stream",
          "name": "stdout",
          "text": [
            "12/12 [==============================] - 0s 2ms/step\n",
            "              precision    recall  f1-score   support\n",
            "\n",
            "           0       0.93      0.99      0.96        86\n",
            "           1       0.99      0.96      0.97       136\n",
            "\n",
            "    accuracy                           0.97       222\n",
            "   macro avg       0.96      0.97      0.97       222\n",
            "weighted avg       0.97      0.97      0.97       222\n",
            "\n",
            "CPU times: user 123 ms, sys: 3.21 ms, total: 126 ms\n",
            "Wall time: 147 ms\n"
          ]
        }
      ]
    },
    {
      "cell_type": "code",
      "source": [
        "y_pred = model.predict(test_X)\n",
        "y_pred = (y_pred > 0.5)\n",
        "\n",
        "c_matrix = confusion_matrix(test_y, y_pred)\n",
        "TP = c_matrix[1][1]\n",
        "TN = c_matrix[0][0]\n",
        "FP = c_matrix[0][1]\n",
        "FN = c_matrix[1][0]\n",
        "performance = pd.concat([performance, pd.DataFrame({'model':\"Deep Neural Network RandomGrid Search\", \n",
        "                                                    'Accuracy': [(TP+TN)/(TP+TN+FP+FN)],  \n",
        "                                                    'Precision': [TP/(TP+FP)],\n",
        "                                                    'Recall': [TP/(TP+FN)], \n",
        "                                                    'F1': [2*TP/(2*TP+FP+FN)]\n",
        "                                                     }, index=[0])])"
      ],
      "metadata": {
        "id": "ULw-1iPWTHkw",
        "colab": {
          "base_uri": "https://localhost:8080/"
        },
        "outputId": "4cc8a842-657c-4b02-ff42-deda468b1cb5"
      },
      "execution_count": 43,
      "outputs": [
        {
          "output_type": "stream",
          "name": "stdout",
          "text": [
            "7/7 [==============================] - 0s 3ms/step\n"
          ]
        }
      ]
    },
    {
      "cell_type": "markdown",
      "source": [
        "## PERFORMANCE OF ALL MODELS"
      ],
      "metadata": {
        "id": "CwpJ7ZF0KSoE"
      }
    },
    {
      "cell_type": "code",
      "source": [
        "performance"
      ],
      "metadata": {
        "id": "fzn9PtRiKWdA",
        "colab": {
          "base_uri": "https://localhost:8080/",
          "height": 269
        },
        "outputId": "cfcd7aee-35aa-456b-e6bd-d8e0c401a023"
      },
      "execution_count": 44,
      "outputs": [
        {
          "output_type": "execute_result",
          "data": {
            "text/plain": [
              "                                   model  Accuracy  Precision    Recall  \\\n",
              "0                    Logistic Regression  0.986486   1.000000  0.977941   \n",
              "0                                    SVM  1.000000   1.000000  1.000000   \n",
              "0                          Decision Tree  1.000000   1.000000  1.000000   \n",
              "0            Neural_Networks_Grid_search  0.995495   1.000000  0.992647   \n",
              "0                    Deep Neural Network  0.770270   0.754491  0.926471   \n",
              "0           Wide and Deep Neural Network  0.923423   0.899329  0.985294   \n",
              "0  Deep Neural Network RandomGrid Search  0.923423   0.899329  0.985294   \n",
              "\n",
              "         F1  \n",
              "0  0.988848  \n",
              "0  1.000000  \n",
              "0  1.000000  \n",
              "0  0.996310  \n",
              "0  0.831683  \n",
              "0  0.940351  \n",
              "0  0.940351  "
            ],
            "text/html": [
              "\n",
              "  <div id=\"df-651dba9b-e8aa-4636-94a1-da2ef3f891cd\">\n",
              "    <div class=\"colab-df-container\">\n",
              "      <div>\n",
              "<style scoped>\n",
              "    .dataframe tbody tr th:only-of-type {\n",
              "        vertical-align: middle;\n",
              "    }\n",
              "\n",
              "    .dataframe tbody tr th {\n",
              "        vertical-align: top;\n",
              "    }\n",
              "\n",
              "    .dataframe thead th {\n",
              "        text-align: right;\n",
              "    }\n",
              "</style>\n",
              "<table border=\"1\" class=\"dataframe\">\n",
              "  <thead>\n",
              "    <tr style=\"text-align: right;\">\n",
              "      <th></th>\n",
              "      <th>model</th>\n",
              "      <th>Accuracy</th>\n",
              "      <th>Precision</th>\n",
              "      <th>Recall</th>\n",
              "      <th>F1</th>\n",
              "    </tr>\n",
              "  </thead>\n",
              "  <tbody>\n",
              "    <tr>\n",
              "      <th>0</th>\n",
              "      <td>Logistic Regression</td>\n",
              "      <td>0.986486</td>\n",
              "      <td>1.000000</td>\n",
              "      <td>0.977941</td>\n",
              "      <td>0.988848</td>\n",
              "    </tr>\n",
              "    <tr>\n",
              "      <th>0</th>\n",
              "      <td>SVM</td>\n",
              "      <td>1.000000</td>\n",
              "      <td>1.000000</td>\n",
              "      <td>1.000000</td>\n",
              "      <td>1.000000</td>\n",
              "    </tr>\n",
              "    <tr>\n",
              "      <th>0</th>\n",
              "      <td>Decision Tree</td>\n",
              "      <td>1.000000</td>\n",
              "      <td>1.000000</td>\n",
              "      <td>1.000000</td>\n",
              "      <td>1.000000</td>\n",
              "    </tr>\n",
              "    <tr>\n",
              "      <th>0</th>\n",
              "      <td>Neural_Networks_Grid_search</td>\n",
              "      <td>0.995495</td>\n",
              "      <td>1.000000</td>\n",
              "      <td>0.992647</td>\n",
              "      <td>0.996310</td>\n",
              "    </tr>\n",
              "    <tr>\n",
              "      <th>0</th>\n",
              "      <td>Deep Neural Network</td>\n",
              "      <td>0.770270</td>\n",
              "      <td>0.754491</td>\n",
              "      <td>0.926471</td>\n",
              "      <td>0.831683</td>\n",
              "    </tr>\n",
              "    <tr>\n",
              "      <th>0</th>\n",
              "      <td>Wide and Deep Neural Network</td>\n",
              "      <td>0.923423</td>\n",
              "      <td>0.899329</td>\n",
              "      <td>0.985294</td>\n",
              "      <td>0.940351</td>\n",
              "    </tr>\n",
              "    <tr>\n",
              "      <th>0</th>\n",
              "      <td>Deep Neural Network RandomGrid Search</td>\n",
              "      <td>0.923423</td>\n",
              "      <td>0.899329</td>\n",
              "      <td>0.985294</td>\n",
              "      <td>0.940351</td>\n",
              "    </tr>\n",
              "  </tbody>\n",
              "</table>\n",
              "</div>\n",
              "      <button class=\"colab-df-convert\" onclick=\"convertToInteractive('df-651dba9b-e8aa-4636-94a1-da2ef3f891cd')\"\n",
              "              title=\"Convert this dataframe to an interactive table.\"\n",
              "              style=\"display:none;\">\n",
              "        \n",
              "  <svg xmlns=\"http://www.w3.org/2000/svg\" height=\"24px\"viewBox=\"0 0 24 24\"\n",
              "       width=\"24px\">\n",
              "    <path d=\"M0 0h24v24H0V0z\" fill=\"none\"/>\n",
              "    <path d=\"M18.56 5.44l.94 2.06.94-2.06 2.06-.94-2.06-.94-.94-2.06-.94 2.06-2.06.94zm-11 1L8.5 8.5l.94-2.06 2.06-.94-2.06-.94L8.5 2.5l-.94 2.06-2.06.94zm10 10l.94 2.06.94-2.06 2.06-.94-2.06-.94-.94-2.06-.94 2.06-2.06.94z\"/><path d=\"M17.41 7.96l-1.37-1.37c-.4-.4-.92-.59-1.43-.59-.52 0-1.04.2-1.43.59L10.3 9.45l-7.72 7.72c-.78.78-.78 2.05 0 2.83L4 21.41c.39.39.9.59 1.41.59.51 0 1.02-.2 1.41-.59l7.78-7.78 2.81-2.81c.8-.78.8-2.07 0-2.86zM5.41 20L4 18.59l7.72-7.72 1.47 1.35L5.41 20z\"/>\n",
              "  </svg>\n",
              "      </button>\n",
              "      \n",
              "  <style>\n",
              "    .colab-df-container {\n",
              "      display:flex;\n",
              "      flex-wrap:wrap;\n",
              "      gap: 12px;\n",
              "    }\n",
              "\n",
              "    .colab-df-convert {\n",
              "      background-color: #E8F0FE;\n",
              "      border: none;\n",
              "      border-radius: 50%;\n",
              "      cursor: pointer;\n",
              "      display: none;\n",
              "      fill: #1967D2;\n",
              "      height: 32px;\n",
              "      padding: 0 0 0 0;\n",
              "      width: 32px;\n",
              "    }\n",
              "\n",
              "    .colab-df-convert:hover {\n",
              "      background-color: #E2EBFA;\n",
              "      box-shadow: 0px 1px 2px rgba(60, 64, 67, 0.3), 0px 1px 3px 1px rgba(60, 64, 67, 0.15);\n",
              "      fill: #174EA6;\n",
              "    }\n",
              "\n",
              "    [theme=dark] .colab-df-convert {\n",
              "      background-color: #3B4455;\n",
              "      fill: #D2E3FC;\n",
              "    }\n",
              "\n",
              "    [theme=dark] .colab-df-convert:hover {\n",
              "      background-color: #434B5C;\n",
              "      box-shadow: 0px 1px 3px 1px rgba(0, 0, 0, 0.15);\n",
              "      filter: drop-shadow(0px 1px 2px rgba(0, 0, 0, 0.3));\n",
              "      fill: #FFFFFF;\n",
              "    }\n",
              "  </style>\n",
              "\n",
              "      <script>\n",
              "        const buttonEl =\n",
              "          document.querySelector('#df-651dba9b-e8aa-4636-94a1-da2ef3f891cd button.colab-df-convert');\n",
              "        buttonEl.style.display =\n",
              "          google.colab.kernel.accessAllowed ? 'block' : 'none';\n",
              "\n",
              "        async function convertToInteractive(key) {\n",
              "          const element = document.querySelector('#df-651dba9b-e8aa-4636-94a1-da2ef3f891cd');\n",
              "          const dataTable =\n",
              "            await google.colab.kernel.invokeFunction('convertToInteractive',\n",
              "                                                     [key], {});\n",
              "          if (!dataTable) return;\n",
              "\n",
              "          const docLinkHtml = 'Like what you see? Visit the ' +\n",
              "            '<a target=\"_blank\" href=https://colab.research.google.com/notebooks/data_table.ipynb>data table notebook</a>'\n",
              "            + ' to learn more about interactive tables.';\n",
              "          element.innerHTML = '';\n",
              "          dataTable['output_type'] = 'display_data';\n",
              "          await google.colab.output.renderOutput(dataTable, element);\n",
              "          const docLink = document.createElement('div');\n",
              "          docLink.innerHTML = docLinkHtml;\n",
              "          element.appendChild(docLink);\n",
              "        }\n",
              "      </script>\n",
              "    </div>\n",
              "  </div>\n",
              "  "
            ]
          },
          "metadata": {},
          "execution_count": 44
        }
      ]
    },
    {
      "cell_type": "code",
      "source": [
        "performance.sort_values(by=['Accuracy'])"
      ],
      "metadata": {
        "id": "HXOSPJdbKYd0",
        "colab": {
          "base_uri": "https://localhost:8080/",
          "height": 269
        },
        "outputId": "6a56af45-8ab2-4a1a-eaf5-394c5fd1eedb"
      },
      "execution_count": 45,
      "outputs": [
        {
          "output_type": "execute_result",
          "data": {
            "text/plain": [
              "                                   model  Accuracy  Precision    Recall  \\\n",
              "0                    Deep Neural Network  0.770270   0.754491  0.926471   \n",
              "0           Wide and Deep Neural Network  0.923423   0.899329  0.985294   \n",
              "0  Deep Neural Network RandomGrid Search  0.923423   0.899329  0.985294   \n",
              "0                    Logistic Regression  0.986486   1.000000  0.977941   \n",
              "0            Neural_Networks_Grid_search  0.995495   1.000000  0.992647   \n",
              "0                                    SVM  1.000000   1.000000  1.000000   \n",
              "0                          Decision Tree  1.000000   1.000000  1.000000   \n",
              "\n",
              "         F1  \n",
              "0  0.831683  \n",
              "0  0.940351  \n",
              "0  0.940351  \n",
              "0  0.988848  \n",
              "0  0.996310  \n",
              "0  1.000000  \n",
              "0  1.000000  "
            ],
            "text/html": [
              "\n",
              "  <div id=\"df-a097de35-f4de-4759-afc5-0eb8ab50f18b\">\n",
              "    <div class=\"colab-df-container\">\n",
              "      <div>\n",
              "<style scoped>\n",
              "    .dataframe tbody tr th:only-of-type {\n",
              "        vertical-align: middle;\n",
              "    }\n",
              "\n",
              "    .dataframe tbody tr th {\n",
              "        vertical-align: top;\n",
              "    }\n",
              "\n",
              "    .dataframe thead th {\n",
              "        text-align: right;\n",
              "    }\n",
              "</style>\n",
              "<table border=\"1\" class=\"dataframe\">\n",
              "  <thead>\n",
              "    <tr style=\"text-align: right;\">\n",
              "      <th></th>\n",
              "      <th>model</th>\n",
              "      <th>Accuracy</th>\n",
              "      <th>Precision</th>\n",
              "      <th>Recall</th>\n",
              "      <th>F1</th>\n",
              "    </tr>\n",
              "  </thead>\n",
              "  <tbody>\n",
              "    <tr>\n",
              "      <th>0</th>\n",
              "      <td>Deep Neural Network</td>\n",
              "      <td>0.770270</td>\n",
              "      <td>0.754491</td>\n",
              "      <td>0.926471</td>\n",
              "      <td>0.831683</td>\n",
              "    </tr>\n",
              "    <tr>\n",
              "      <th>0</th>\n",
              "      <td>Wide and Deep Neural Network</td>\n",
              "      <td>0.923423</td>\n",
              "      <td>0.899329</td>\n",
              "      <td>0.985294</td>\n",
              "      <td>0.940351</td>\n",
              "    </tr>\n",
              "    <tr>\n",
              "      <th>0</th>\n",
              "      <td>Deep Neural Network RandomGrid Search</td>\n",
              "      <td>0.923423</td>\n",
              "      <td>0.899329</td>\n",
              "      <td>0.985294</td>\n",
              "      <td>0.940351</td>\n",
              "    </tr>\n",
              "    <tr>\n",
              "      <th>0</th>\n",
              "      <td>Logistic Regression</td>\n",
              "      <td>0.986486</td>\n",
              "      <td>1.000000</td>\n",
              "      <td>0.977941</td>\n",
              "      <td>0.988848</td>\n",
              "    </tr>\n",
              "    <tr>\n",
              "      <th>0</th>\n",
              "      <td>Neural_Networks_Grid_search</td>\n",
              "      <td>0.995495</td>\n",
              "      <td>1.000000</td>\n",
              "      <td>0.992647</td>\n",
              "      <td>0.996310</td>\n",
              "    </tr>\n",
              "    <tr>\n",
              "      <th>0</th>\n",
              "      <td>SVM</td>\n",
              "      <td>1.000000</td>\n",
              "      <td>1.000000</td>\n",
              "      <td>1.000000</td>\n",
              "      <td>1.000000</td>\n",
              "    </tr>\n",
              "    <tr>\n",
              "      <th>0</th>\n",
              "      <td>Decision Tree</td>\n",
              "      <td>1.000000</td>\n",
              "      <td>1.000000</td>\n",
              "      <td>1.000000</td>\n",
              "      <td>1.000000</td>\n",
              "    </tr>\n",
              "  </tbody>\n",
              "</table>\n",
              "</div>\n",
              "      <button class=\"colab-df-convert\" onclick=\"convertToInteractive('df-a097de35-f4de-4759-afc5-0eb8ab50f18b')\"\n",
              "              title=\"Convert this dataframe to an interactive table.\"\n",
              "              style=\"display:none;\">\n",
              "        \n",
              "  <svg xmlns=\"http://www.w3.org/2000/svg\" height=\"24px\"viewBox=\"0 0 24 24\"\n",
              "       width=\"24px\">\n",
              "    <path d=\"M0 0h24v24H0V0z\" fill=\"none\"/>\n",
              "    <path d=\"M18.56 5.44l.94 2.06.94-2.06 2.06-.94-2.06-.94-.94-2.06-.94 2.06-2.06.94zm-11 1L8.5 8.5l.94-2.06 2.06-.94-2.06-.94L8.5 2.5l-.94 2.06-2.06.94zm10 10l.94 2.06.94-2.06 2.06-.94-2.06-.94-.94-2.06-.94 2.06-2.06.94z\"/><path d=\"M17.41 7.96l-1.37-1.37c-.4-.4-.92-.59-1.43-.59-.52 0-1.04.2-1.43.59L10.3 9.45l-7.72 7.72c-.78.78-.78 2.05 0 2.83L4 21.41c.39.39.9.59 1.41.59.51 0 1.02-.2 1.41-.59l7.78-7.78 2.81-2.81c.8-.78.8-2.07 0-2.86zM5.41 20L4 18.59l7.72-7.72 1.47 1.35L5.41 20z\"/>\n",
              "  </svg>\n",
              "      </button>\n",
              "      \n",
              "  <style>\n",
              "    .colab-df-container {\n",
              "      display:flex;\n",
              "      flex-wrap:wrap;\n",
              "      gap: 12px;\n",
              "    }\n",
              "\n",
              "    .colab-df-convert {\n",
              "      background-color: #E8F0FE;\n",
              "      border: none;\n",
              "      border-radius: 50%;\n",
              "      cursor: pointer;\n",
              "      display: none;\n",
              "      fill: #1967D2;\n",
              "      height: 32px;\n",
              "      padding: 0 0 0 0;\n",
              "      width: 32px;\n",
              "    }\n",
              "\n",
              "    .colab-df-convert:hover {\n",
              "      background-color: #E2EBFA;\n",
              "      box-shadow: 0px 1px 2px rgba(60, 64, 67, 0.3), 0px 1px 3px 1px rgba(60, 64, 67, 0.15);\n",
              "      fill: #174EA6;\n",
              "    }\n",
              "\n",
              "    [theme=dark] .colab-df-convert {\n",
              "      background-color: #3B4455;\n",
              "      fill: #D2E3FC;\n",
              "    }\n",
              "\n",
              "    [theme=dark] .colab-df-convert:hover {\n",
              "      background-color: #434B5C;\n",
              "      box-shadow: 0px 1px 3px 1px rgba(0, 0, 0, 0.15);\n",
              "      filter: drop-shadow(0px 1px 2px rgba(0, 0, 0, 0.3));\n",
              "      fill: #FFFFFF;\n",
              "    }\n",
              "  </style>\n",
              "\n",
              "      <script>\n",
              "        const buttonEl =\n",
              "          document.querySelector('#df-a097de35-f4de-4759-afc5-0eb8ab50f18b button.colab-df-convert');\n",
              "        buttonEl.style.display =\n",
              "          google.colab.kernel.accessAllowed ? 'block' : 'none';\n",
              "\n",
              "        async function convertToInteractive(key) {\n",
              "          const element = document.querySelector('#df-a097de35-f4de-4759-afc5-0eb8ab50f18b');\n",
              "          const dataTable =\n",
              "            await google.colab.kernel.invokeFunction('convertToInteractive',\n",
              "                                                     [key], {});\n",
              "          if (!dataTable) return;\n",
              "\n",
              "          const docLinkHtml = 'Like what you see? Visit the ' +\n",
              "            '<a target=\"_blank\" href=https://colab.research.google.com/notebooks/data_table.ipynb>data table notebook</a>'\n",
              "            + ' to learn more about interactive tables.';\n",
              "          element.innerHTML = '';\n",
              "          dataTable['output_type'] = 'display_data';\n",
              "          await google.colab.output.renderOutput(dataTable, element);\n",
              "          const docLink = document.createElement('div');\n",
              "          docLink.innerHTML = docLinkHtml;\n",
              "          element.appendChild(docLink);\n",
              "        }\n",
              "      </script>\n",
              "    </div>\n",
              "  </div>\n",
              "  "
            ]
          },
          "metadata": {},
          "execution_count": 45
        }
      ]
    },
    {
      "cell_type": "markdown",
      "metadata": {
        "id": "CMKD2I2xuq7t"
      },
      "source": [
        "## ANALYSIS OF MODELS "
      ]
    },
    {
      "cell_type": "markdown",
      "source": [
        "##Summary and Analysis: \n",
        "\n",
        "The problem statement is related to the Human Resources(HR) Analytics where the employee's absence can be validated using various reasons which can potentially impact the weightage for the decision of promotion and  elimination at the company.\n",
        "\n",
        "Here, the False Negative (where we predict the employee is not absent but in actuality, he is absent) and False Positive (where we predict the employee is absent but in actuality, he is not absent) both of them have the equal priority as it may help in adding weightage at the decision making process for the promotion or elimination in the company.\n",
        "Hence, The **Accuracy** is considered here as the main parameter for the decision of the best fitting model for the data chosen."
      ],
      "metadata": {
        "id": "sU44UQIiv7yA"
      }
    },
    {
      "cell_type": "markdown",
      "metadata": {
        "id": "pIK8L3ZL5Zw2"
      },
      "source": [
        "\n",
        "**Impact from Preprocessing data:**\n",
        "The 3 predictors are label encoded leading to many zeroes and ones in the data while processing. The resulted data from pre processing is encoded, splitted, balanced, regularized and early stopped for better training and reduce overfitting while fitting the data set into these models. The regularization and early stopping is introduced for the reduction of over fitting as mentioned in the python cheatsheet from the ppt given in the modules.The data contains 741 rows(limited dataset) and is very well trained and contains more zeros and ones because of the encoding and scaling. Hence the scoring parameters accuracy is high for the model fitted. If the dataset had many entries, then the training and testing can be effective compatred to a limited entry dataset.\n",
        "\n"
      ]
    },
    {
      "cell_type": "markdown",
      "source": [
        "The **performance** of distinct machine learning models—Logistic Regression, Support Vector Machine (SVM), Decision Tree, Neural network, Deep Neural network and Wide&Deep Neural Network (MLP and keras) are evaluated.\n",
        "\n",
        "The Deep Neural Network, Wide and Deep Neural Network, and Deep Neural Network RandomGrid Search have considerably lower accuracy and F1 scores in comparison to the other models, as can be seen from the evaluation metrics. They are able to accurately recognize more positive examples, or true positives. This is because these models are more complicated and are better able to identify complex patterns in the data. The Logistic Regression, SVM, Decision Tree, and both Neural Networks Grid search models, on the other hand, have flawless accuracy, precision, recall, and F1 scores, demonstrating that they were able to properly categorize all cases in the dataset. For the svm, decision tree and Neural networks(MLP), the model is overfitting after hypertuning also. Wide & deep neural network has accuracy to 92% where as the **Neural networks with grid search (MLP)** is performing good with 99% accuracy and appears to be the best model for this specific task. It's crucial to remember that these metrics only give a partial picture of the model's performance, and it's likely that model interpretability or computing efficiency may also be crucial elements to take into account when choosing a model but for our business model, the Neural networks (MLP) suits well and performing better without overfitting."
      ],
      "metadata": {
        "id": "jfrH2dkIDGZR"
      }
    },
    {
      "cell_type": "code",
      "source": [],
      "metadata": {
        "id": "pETydATaOTQd"
      },
      "execution_count": null,
      "outputs": []
    }
  ],
  "metadata": {
    "accelerator": "GPU",
    "colab": {
      "provenance": []
    },
    "gpuClass": "standard",
    "kernelspec": {
      "display_name": "Python 3 (ipykernel)",
      "language": "python",
      "name": "python3"
    },
    "language_info": {
      "codemirror_mode": {
        "name": "ipython",
        "version": 3
      },
      "file_extension": ".py",
      "mimetype": "text/x-python",
      "name": "python",
      "nbconvert_exporter": "python",
      "pygments_lexer": "ipython3",
      "version": "3.9.12"
    }
  },
  "nbformat": 4,
  "nbformat_minor": 0
}